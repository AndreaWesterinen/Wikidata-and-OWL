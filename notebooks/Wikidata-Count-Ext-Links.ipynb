{
 "cells": [
  {
   "cell_type": "markdown",
   "id": "637edc77",
   "metadata": {},
   "source": [
    "# Wikidata - External Reference Counts\n",
    "\n",
    "Count the references to external resources across Wikidata entities that are properties or items that are in a subclassing hierarchy. This is done to avoid the many exact match references due to instances.\n",
    "\n",
    "Results are shown in cell 3 for IRIs with counts of 50 references and above."
   ]
  },
  {
   "cell_type": "code",
   "execution_count": 1,
   "id": "366b1576",
   "metadata": {
    "ExecuteTime": {
     "end_time": "2024-01-30T22:14:42.437432Z",
     "start_time": "2024-01-30T22:14:42.426707Z"
    }
   },
   "outputs": [],
   "source": [
    "from SPARQLWrapper import SPARQLWrapper, CSV\n",
    "\n",
    "sparql = SPARQLWrapper(\"https://qlever.cs.uni-freiburg.de/api/wikidata\")    # QLever\n",
    "# WDQS: sparql = SPARQLWrapper(\"https://query.wikidata.org/sparql\")         # Not used due to time outs\n",
    "\n",
    "# Checking for super-property wdt:P2235, sub-property wdt:P2236, and equivalent property wdt:P1628 \n",
    "query_prop_refs = 'PREFIX wdt: <http://www.wikidata.org/prop/direct/> ' \\\n",
    "                  'PREFIX wikibase: <http://wikiba.se/ontology#> ' \\\n",
    "                  'SELECT DISTINCT ?prop ?extPred ?ext WHERE { ' \\\n",
    "                      'VALUES ?extPred {wdt:P2235 wdt:P2236 wdt:P1628} ' \\\n",
    "                      '?prop ?extPred ?ext . ' \\\n",
    "                      'FILTER (!CONTAINS(str(?ext),\"http://www.wikidata.org\")) }'  # Must be external ref \n",
    "\n",
    "# Checking for equivalent class P1709, exact match P2888, or narrower external class P3950\n",
    "# Checking for super/sub-class using the P279 property\n",
    "query_class_refs = 'PREFIX wdt: <http://www.wikidata.org/prop/direct/> ' \\\n",
    "                   'SELECT DISTINCT ?item ?extPred ?ext WHERE { ' \\\n",
    "                       'VALUES ?extPred {wdt:P1709 wdt:P2888 wdt:P3950} ' \\\n",
    "                       '?item ?extPred ?ext . ' \\\n",
    "                       '{ {?item wdt:P279 ?x} UNION {?y wdt:P279 ?item} } ' \\\n",
    "                       'FILTER (!CONTAINS(str(?ext),\"http://www.wikidata.org\")) }'  # Must be external ref \n",
    "\n",
    "\n",
    "# Run query\n",
    "def run_query(query_str: str):\n",
    "    sparql.setQuery(query_str)\n",
    "    sparql.setReturnFormat(CSV)\n",
    "    results = sparql.query()\n",
    "    if str(results.response.status) != \"200\":\n",
    "        print('error', results.response.status, query_str)\n",
    "        return None\n",
    "    elif \"retry-after\" in results.info():    # If using WDQS, avoid hitting query limits for WDQS\n",
    "        time.sleep(int(info['retry-after']))\n",
    "        return run_query(query_str)\n",
    "    else:\n",
    "        return results.convert().decode()    # Returns byte string"
   ]
  },
  {
   "cell_type": "code",
   "execution_count": 2,
   "id": "83b593d3",
   "metadata": {
    "ExecuteTime": {
     "end_time": "2024-01-30T22:14:50.904277Z",
     "start_time": "2024-01-30T22:14:43.730353Z"
    }
   },
   "outputs": [],
   "source": [
    "queries = (query_prop_refs, query_class_refs)\n",
    "ext_iris = dict()\n",
    "\n",
    "for query in queries:\n",
    "    csv_results = run_query(query)\n",
    "    if csv_results is not None:\n",
    "        csv_lines = csv_results.split(\"\\n\")\n",
    "        for line in csv_lines:\n",
    "            if not line:\n",
    "                continue\n",
    "            external = line.split(\",\")[2]\n",
    "            if not external.startswith(\"http\"):\n",
    "                continue\n",
    "            iri_segments = external.split(\"//\")[1].split(\"/\")\n",
    "            final_iri = iri_segments[0]\n",
    "            if \"purl.org\" in final_iri:\n",
    "                final_iri = final_iri + \"/\" + iri_segments[1]\n",
    "            cnt = 0\n",
    "            if final_iri in ext_iris:\n",
    "                cnt = ext_iris[final_iri]\n",
    "            final_cnt = cnt + 1\n",
    "            ext_iris[final_iri] = final_cnt\n",
    "    else:\n",
    "        print(\"Failed to process query: \" + query)"
   ]
  },
  {
   "cell_type": "code",
   "execution_count": 3,
   "id": "7eb2ea59",
   "metadata": {
    "ExecuteTime": {
     "end_time": "2024-01-30T22:14:56.161587Z",
     "start_time": "2024-01-30T22:14:56.156601Z"
    }
   },
   "outputs": [
    {
     "name": "stdout",
     "output_type": "stream",
     "text": [
      "identifiers.org 199777\n",
      "purl.obolibrary.org 57677\n",
      "www.orpha.net 8573\n",
      "publications.europa.eu 5845\n",
      "www.rhea-db.org 4392\n",
      "schema.org 791\n",
      "wordnet-rdf.princeton.edu 543\n",
      "www.tcdb.org 494\n",
      "dbpedia.org 424\n",
      "purl.uniprot.org 406\n",
      "www.ncbi.nlm.nih.gov 198\n",
      "www.w3.org 161\n",
      "www.lexinfo.net 141\n",
      "id.loc.gov 125\n",
      "www.uniprot.org 95\n",
      "pcp-on-web.de 92\n",
      "purl.org/ontology 79\n",
      "purl.org/dc 78\n",
      "purl.org/spar 71\n",
      "cv.iptc.org 64\n",
      "d-nb.info 56\n",
      "purl.org/coar 56\n"
     ]
    }
   ],
   "source": [
    "sorted_references = sorted(ext_iris.items(), key=lambda x:x[1], reverse=True)  # Result is an array of tuples\n",
    "for iri, count in sorted_references:\n",
    "    if count > 50:   # Output results if more than 50 references\n",
    "        print(iri, count)"
   ]
  },
  {
   "cell_type": "code",
   "execution_count": null,
   "id": "a0e6977e",
   "metadata": {},
   "outputs": [],
   "source": []
  }
 ],
 "metadata": {
  "kernelspec": {
   "display_name": "Python 3",
   "language": "python",
   "name": "python3"
  },
  "language_info": {
   "codemirror_mode": {
    "name": "ipython",
    "version": 3
   },
   "file_extension": ".py",
   "mimetype": "text/x-python",
   "name": "python",
   "nbconvert_exporter": "python",
   "pygments_lexer": "ipython3",
   "version": "3.8.9"
  },
  "varInspector": {
   "cols": {
    "lenName": 16,
    "lenType": 16,
    "lenVar": 40
   },
   "kernels_config": {
    "python": {
     "delete_cmd_postfix": "",
     "delete_cmd_prefix": "del ",
     "library": "var_list.py",
     "varRefreshCmd": "print(var_dic_list())"
    },
    "r": {
     "delete_cmd_postfix": ") ",
     "delete_cmd_prefix": "rm(",
     "library": "var_list.r",
     "varRefreshCmd": "cat(var_dic_list()) "
    }
   },
   "position": {
    "height": "456.797px",
    "left": "934px",
    "right": "20px",
    "top": "123px",
    "width": "381.172px"
   },
   "types_to_exclude": [
    "module",
    "function",
    "builtin_function_or_method",
    "instance",
    "_Feature"
   ],
   "window_display": true
  }
 },
 "nbformat": 4,
 "nbformat_minor": 5
}
