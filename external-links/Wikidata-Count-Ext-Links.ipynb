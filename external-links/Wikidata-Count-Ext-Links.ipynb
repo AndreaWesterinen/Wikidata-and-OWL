{
 "cells": [
  {
   "cell_type": "markdown",
   "id": "637edc77",
   "metadata": {},
   "source": [
    "# Wikidata - External Reference Counts\n",
    "\n",
    "Count the references to external resources across Wikidata entities.\n",
    "\n",
    "First, execute the following queries and save the results to the indicated CSV files:\n",
    "\n",
    "* Query for all properties that are related to external references and return them and their references (WDQS, saved to __query_Props.csv__)\n",
    "\n",
    "```\n",
    "PREFIX wdt: <http://www.wikidata.org/prop/direct/>\n",
    "PREFIX wikibase: <http://wikiba.se/ontology#>\n",
    "SELECT DISTINCT ?prop ?ext ?type WHERE {\n",
    "  \t   ?prop wikibase:propertyType []. \n",
    "  \t   { {?prop wdt:P2235 ?ext . BIND(\"Ext_Superprop\" as ?type)} UNION \n",
    "       \t     {?prop wdt:P2236 ?ext . BIND(\"Ext_Subprop\" as ?type)} UNION \n",
    "    \t     {?prop wdt:P1628 ?ext . BIND(\"Equiv_Prop\" as ?type)} } \n",
    "  \t   FILTER (!CONTAINS(str(?ext),\"http://www.wikidata.org\")) .\n",
    "} ORDER BY DESC(?type)\n",
    "```\n",
    "\n",
    "* Query for external references that are equivalent classes (QLever, saved to __query_Equiv_Class.csv__)\n",
    "\n",
    "```\n",
    "PREFIX wdt: <http://www.wikidata.org/prop/direct/>\n",
    "SELECT DISTINCT ?item ?ext WHERE {\n",
    "  \t    ?item wdt:P1709 ?ext .  # Equivalent class\n",
    "\t    { {?item wdt:P279 ?x} UNION {?y wdt:P279 ?item} } # In class hierarchy\n",
    "  \t    FILTER (!CONTAINS(str(?ext),\"http://www.wikidata.org\")) .\n",
    "}\n",
    "```\n",
    "\n",
    "* Query for external references that are exact matches (QLever, saved to __query_Exact_Class.csv__)\n",
    "\n",
    "```\n",
    "PREFIX wdt: <http://www.wikidata.org/prop/direct/>\n",
    "SELECT DISTINCT ?item ?ext WHERE {\n",
    "  \t    ?item wdt:P2888 ?ext .  # Exact match class\n",
    "\t    { {?item wdt:P279 ?x} UNION {?y wdt:P279 ?item} } # In class hierarchy\n",
    "  \t    FILTER (!CONTAINS(str(?ext),\"http://www.wikidata.org\")) .\n",
    "}\n",
    "```\n",
    "\n",
    "Then, execute the following cell and results will be printed. Results are shown below for counts of 50 references and above."
   ]
  },
  {
   "cell_type": "code",
   "execution_count": 1,
   "id": "83b593d3",
   "metadata": {
    "ExecuteTime": {
     "end_time": "2024-01-28T03:58:33.663669Z",
     "start_time": "2024-01-28T03:58:33.224644Z"
    }
   },
   "outputs": [
    {
     "name": "stdout",
     "output_type": "stream",
     "text": [
      "identifiers.org 199777\n",
      "purl.obolibrary.org 57676\n",
      "www.orpha.net 8573\n",
      "publications.europa.eu 5844\n",
      "www.rhea-db.org 4392\n",
      "schema.org 788\n",
      "wordnet-rdf.princeton.edu 543\n",
      "www.tcdb.org 494\n",
      "dbpedia.org 424\n",
      "purl.uniprot.org 406\n",
      "www.ncbi.nlm.nih.gov 198\n",
      "www.w3.org 163\n",
      "www.lexinfo.net 141\n",
      "id.loc.gov 120\n",
      "www.uniprot.org 95\n",
      "pcp-on-web.de 92\n",
      "purl.org/ontology 80\n",
      "purl.org/spar 69\n",
      "purl.org/dc 66\n",
      "cv.iptc.org 60\n",
      "purl.org/coar 56\n",
      "d-nb.info 55\n"
     ]
    }
   ],
   "source": [
    "files = (\"query_Props.csv\", \"query_Equiv_Class.csv\", \"query_Exact_Class.csv\")\n",
    "domains = dict()\n",
    "\n",
    "for file in files:\n",
    "    with open(file, \"r\") as inputs:\n",
    "        while True:\n",
    "            line = inputs.readline()\n",
    "            if len(line) == 0:\n",
    "                break\n",
    "            external = line.split(\",\")[1]\n",
    "            if not external.startswith(\"http\"):\n",
    "                continue\n",
    "            iri = external.split(\"//\")[1]\n",
    "            segments = iri.split(\"/\")\n",
    "            final = segments[0]\n",
    "            if \"purl.org\" in iri:\n",
    "                final = final + \"/\" + segments[1]\n",
    "            cnt = 0\n",
    "            if final in domains:\n",
    "                cnt = domains[final]\n",
    "            final_cnt = cnt + 1\n",
    "            domains[final] = final_cnt\n",
    "\n",
    "sorted_references = sorted(domains.items(), key=lambda x:x[1], reverse=True)\n",
    "for iri, count in sorted_references:\n",
    "    if count > 50:   # Output results if more than 50 references\n",
    "        print(iri, count)"
   ]
  },
  {
   "cell_type": "code",
   "execution_count": null,
   "id": "7eb2ea59",
   "metadata": {},
   "outputs": [],
   "source": [
    "\n",
    "\n"
   ]
  }
 ],
 "metadata": {
  "kernelspec": {
   "display_name": "Python 3",
   "language": "python",
   "name": "python3"
  },
  "language_info": {
   "codemirror_mode": {
    "name": "ipython",
    "version": 3
   },
   "file_extension": ".py",
   "mimetype": "text/x-python",
   "name": "python",
   "nbconvert_exporter": "python",
   "pygments_lexer": "ipython3",
   "version": "3.8.9"
  },
  "varInspector": {
   "cols": {
    "lenName": 16,
    "lenType": 16,
    "lenVar": 40
   },
   "kernels_config": {
    "python": {
     "delete_cmd_postfix": "",
     "delete_cmd_prefix": "del ",
     "library": "var_list.py",
     "varRefreshCmd": "print(var_dic_list())"
    },
    "r": {
     "delete_cmd_postfix": ") ",
     "delete_cmd_prefix": "rm(",
     "library": "var_list.r",
     "varRefreshCmd": "cat(var_dic_list()) "
    }
   },
   "position": {
    "height": "456.797px",
    "left": "934px",
    "right": "20px",
    "top": "123px",
    "width": "381.172px"
   },
   "types_to_exclude": [
    "module",
    "function",
    "builtin_function_or_method",
    "instance",
    "_Feature"
   ],
   "window_display": false
  }
 },
 "nbformat": 4,
 "nbformat_minor": 5
}
