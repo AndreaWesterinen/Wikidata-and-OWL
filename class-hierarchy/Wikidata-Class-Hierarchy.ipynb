{
 "cells": [
  {
   "cell_type": "markdown",
   "id": "e47d660b",
   "metadata": {},
   "source": [
    "# Wikidata - Class Hierarchy\n",
    "\n",
    "Return the Wikidata inheritance tree (with mappings to external resources) for an area of interest (a Wikidata item).\n",
    "\n",
    "Execute the following queries and save the results to the indicated CSV files.\n",
    "\n",
    "The examples below explore Agent Q24229398, which includes humans and organizations. \n",
    "\n",
    "* Query the Wikidata class hierarchy (QLever, saved to __class_hierarchy.csv__)\n",
    "\n",
    "```\n",
    "PREFIX wdt: <http://www.wikidata.org/prop/direct/>\n",
    "PREFIX wd: <http://www.wikidata.org/entity/>\n",
    "PREFIX rdfs: <http://www.w3.org/2000/01/rdf-schema#>\n",
    "SELECT DISTINCT ?item ?label ?directSuper {\n",
    "  \t ?item wdt:P279* wd:Q24229398 ; rdfs:label ?label ;   \n",
    "           wdt:P279 ?directSuper .\n",
    "\t FILTER(lang(?label) = \"en\") \n",
    "} \n",
    "```\n",
    "\n",
    "* Query the external class mappings (QLever, saved to __class_mappings.csv__)\n",
    "\n",
    "```\n",
    "PREFIX wdt: <http://www.wikidata.org/prop/direct/>\n",
    "PREFIX wd: <http://www.wikidata.org/entity/>\n",
    "PREFIX rdfs: <http://www.w3.org/2000/01/rdf-schema#>\n",
    "SELECT DISTINCT ?item ?pred ?ext {\n",
    "  \t { SELECT DISTINCT ?item {?item wdt:P279* wd:Q24229398} }\n",
    "     VALUES ?pred {wdt:P1709 wdt:P2888 wdt:P3950}\n",
    "\t ?item ?pred ?ext \n",
    "} \n",
    "```\n",
    "\n",
    "Then, execute the following cell which creates an RDF/OWL declaration (__ttl_output.ttl__) that can be examined further."
   ]
  },
  {
   "cell_type": "code",
   "execution_count": 1,
   "id": "83b593d3",
   "metadata": {
    "ExecuteTime": {
     "end_time": "2024-01-28T17:19:54.950188Z",
     "start_time": "2024-01-28T17:19:54.649053Z"
    }
   },
   "outputs": [],
   "source": [
    "with open(\"ttl_output.ttl\", \"w\") as ttl:\n",
    "    with open(\"class_hierarchy.csv\", \"r\") as inputs:\n",
    "        while True:\n",
    "            line = inputs.readline()\n",
    "            if len(line) == 0:\n",
    "                break\n",
    "            if not line.startswith(\"http\"):\n",
    "                continue\n",
    "            if '\"' in line:\n",
    "                # Commas in label\n",
    "                quote_split = line.split('\"')\n",
    "                item = quote_split[0][:-1]\n",
    "                label = quote_split[1]\n",
    "                super_class = quote_split[2].replace('\\n', '')\n",
    "            else:\n",
    "                comma_split = line.split(',')\n",
    "                item = comma_split[0]\n",
    "                label = comma_split[1]\n",
    "                super_class = comma_split[2].replace('\\n', '')\n",
    "            ttl.write(f'<{item}> rdfs:subClassOf <{super_class}> ; rdfs:label \"{label}\" .\\n')\n",
    "    with open(\"class_mappings.csv\", \"r\") as inputs:\n",
    "        while True:\n",
    "            line = inputs.readline()\n",
    "            if len(line) == 0:\n",
    "                break\n",
    "            if not line.startswith(\"http\"):\n",
    "                continue\n",
    "            comma_split = line.split(',')\n",
    "            ext_ref = comma_split[2].replace('\\n', '')\n",
    "            # Only capturing the ontology mappings for several references\n",
    "            if \"schema.org\" in ext_ref or \"dbpedia\" in ext_ref or \"vcard\" in ext_ref or \"ns/org\" in ext_ref:\n",
    "                ttl.write(f'<{comma_split[0]}> <{comma_split[1]}> <{ext_ref}> .\\n')\n",
    "        "
   ]
  },
  {
   "cell_type": "code",
   "execution_count": null,
   "id": "667299bd",
   "metadata": {},
   "outputs": [],
   "source": []
  }
 ],
 "metadata": {
  "kernelspec": {
   "display_name": "Python 3",
   "language": "python",
   "name": "python3"
  },
  "language_info": {
   "codemirror_mode": {
    "name": "ipython",
    "version": 3
   },
   "file_extension": ".py",
   "mimetype": "text/x-python",
   "name": "python",
   "nbconvert_exporter": "python",
   "pygments_lexer": "ipython3",
   "version": "3.8.9"
  },
  "varInspector": {
   "cols": {
    "lenName": 16,
    "lenType": 16,
    "lenVar": 40
   },
   "kernels_config": {
    "python": {
     "delete_cmd_postfix": "",
     "delete_cmd_prefix": "del ",
     "library": "var_list.py",
     "varRefreshCmd": "print(var_dic_list())"
    },
    "r": {
     "delete_cmd_postfix": ") ",
     "delete_cmd_prefix": "rm(",
     "library": "var_list.r",
     "varRefreshCmd": "cat(var_dic_list()) "
    }
   },
   "position": {
    "height": "456.797px",
    "left": "934px",
    "right": "20px",
    "top": "126px",
    "width": "381.172px"
   },
   "types_to_exclude": [
    "module",
    "function",
    "builtin_function_or_method",
    "instance",
    "_Feature"
   ],
   "window_display": true
  }
 },
 "nbformat": 4,
 "nbformat_minor": 5
}
